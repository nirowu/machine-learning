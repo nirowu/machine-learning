{
  "nbformat": 4,
  "nbformat_minor": 0,
  "metadata": {
    "colab": {
      "provenance": []
    },
    "kernelspec": {
      "name": "python3",
      "display_name": "Python 3"
    },
    "language_info": {
      "name": "python"
    }
  },
  "cells": [
    {
      "cell_type": "markdown",
      "source": [
        "# Dataset1: Wine-Quality-Data-Set \n"
      ],
      "metadata": {
        "id": "2I0A2q7S3wa_"
      }
    },
    {
      "cell_type": "code",
      "execution_count": 38,
      "metadata": {
        "id": "Oli3zs5RTuXM"
      },
      "outputs": [],
      "source": [
        "import numpy as np\n",
        "import pandas as pd\n",
        "import matplotlib.pyplot as plt\n",
        "import seaborn as sns\n",
        "from collections import Counter"
      ]
    },
    {
      "cell_type": "code",
      "source": [
        "def read_file(path):\n",
        "    rawdata = pd.read_excel(path)\n",
        "    return rawdata"
      ],
      "metadata": {
        "id": "eDScTmXKT21H"
      },
      "execution_count": 39,
      "outputs": []
    },
    {
      "cell_type": "code",
      "source": [
        "# Function for standardizing data\n",
        "def standardScaler(feature_array):\n",
        "    num = feature_array.shape[1] # total number of columns\n",
        "    for i in range(num): # iterating through each column\n",
        "        feature = feature_array[:, i]\n",
        "        mean = feature.mean() # mean stores mean value for the column\n",
        "        std = feature.std() # std stores standard deviation value for the column\n",
        "        feature_array[:, i] = (feature_array[:, i] - mean) / std # standard scaling of each element of the column\n",
        "    return feature_array\n"
      ],
      "metadata": {
        "id": "5gHHRo7DUDJp"
      },
      "execution_count": 40,
      "outputs": []
    },
    {
      "cell_type": "markdown",
      "source": [
        "## Dicision Tree"
      ],
      "metadata": {
        "id": "qzc4zLnK3hP_"
      }
    },
    {
      "cell_type": "code",
      "source": [
        "def entropy(x):\n",
        "    '''\n",
        "    calculates entropy of x\n",
        "    \n",
        "    input_ : x (a list of values)\n",
        "    output : float, entropy value\n",
        "    '''\n",
        "    counts = np.bincount(np.array(x, dtype=np.int64))\n",
        "    percentages = counts / len(x)\n",
        "\n",
        "    # Caclulate entropy\n",
        "\n",
        "    entropy = 0\n",
        "    for p in percentages:\n",
        "        if p > 0:\n",
        "            entropy += p * np.log2(p)\n",
        "    entropy = -entropy\n",
        "    return entropy"
      ],
      "metadata": {
        "id": "zHfG4McRGPb2"
      },
      "execution_count": 41,
      "outputs": []
    },
    {
      "cell_type": "code",
      "source": [
        "def information_gain(parent, left_child, right_child):\n",
        "    '''\n",
        "    calculates information gain of a node  \n",
        "    \n",
        "    input_ : parent_list, child_list (left child and right child)\n",
        "    output : float, information gain value\n",
        "    '''\n",
        "    left_num = len(left_child) / len(parent)\n",
        "    right_num = len(right_child) / len(parent)\n",
        "\n",
        "    child = left_num * entropy(left_child) + right_num * entropy(right_child)\n",
        "    \n",
        "    return entropy(parent) - child"
      ],
      "metadata": {
        "id": "R2V-336dGgZT"
      },
      "execution_count": 42,
      "outputs": []
    },
    {
      "cell_type": "code",
      "source": [
        "class Node:\n",
        "    '''\n",
        "    define the node in the decistion tree\n",
        "    \n",
        "    '''\n",
        "    def __init__(self, feature=None, threshold=None, data_left=None, data_right=None, gain=None, value=None):\n",
        "        self.feature = feature\n",
        "        self.threshold = threshold\n",
        "        self.data_left = data_left\n",
        "        self.data_right = data_right\n",
        "        self.gain = gain\n",
        "        self.value = value"
      ],
      "metadata": {
        "id": "N0mF0hLBM-Ew"
      },
      "execution_count": 43,
      "outputs": []
    },
    {
      "cell_type": "code",
      "source": [
        "class DecisionTree:\n",
        "    '''\n",
        "    implementing decisicion tree  \n",
        "    \n",
        "    '''\n",
        "    def __init__(self, min_samples_split=2, max_depth=7):\n",
        "      self.min_samples_split = min_samples_split\n",
        "      self.max_depth = max_depth\n",
        "      self.root = None\n",
        "      \n",
        "    def _best_split(self, X, y):\n",
        "      '''\n",
        "      calculates the best split for given features and target  \n",
        "      \n",
        "      input_ : X = features, y = target \n",
        "      output : best_split (dict)\n",
        "      '''\n",
        "      best_split = {}\n",
        "      best_info_gain = -1\n",
        "      n_rows, n_cols = X.shape\n",
        "      \n",
        "      # For every dataset feature\n",
        "      for f_idx in range(n_cols):\n",
        "          X_curr = X[:, f_idx]\n",
        "          # For every unique value of that feature\n",
        "          for threshold in np.unique(X_curr):\n",
        "              # Construct a dataset and split it to the left and right parts\n",
        "              # Left part includes records lower or equal to the threshold\n",
        "              # Right part includes records higher than the threshold\n",
        "              df = np.concatenate((X, y.reshape(1, -1).T), axis=1)\n",
        "              df_left = np.array([row for row in df if row[f_idx] <= threshold])\n",
        "              df_right = np.array([row for row in df if row[f_idx] > threshold])\n",
        "\n",
        "              # check if data in the subset\n",
        "              if len(df_left) <= 0:\n",
        "                continue\n",
        "              if len(df_right) <= 0:\n",
        "                continue\n",
        "\n",
        "              # Obtain the value of the target variable for subsets\n",
        "              y = df[:, -1]\n",
        "              y_left = df_left[:, -1]\n",
        "              y_right = df_right[:, -1]\n",
        "\n",
        "              # Caclulate the information gain and save the split parameters\n",
        "              # if the current split if better then the previous best\n",
        "              gain = information_gain(y, y_left, y_right)\n",
        "              if gain > best_info_gain:\n",
        "                  best_split = {\n",
        "                      'feature_index': f_idx,\n",
        "                      'threshold': threshold,\n",
        "                      'df_left': df_left,\n",
        "                      'df_right': df_right,\n",
        "                      'gain': gain\n",
        "                  }\n",
        "                  best_info_gain = gain\n",
        "      return best_split\n",
        "  \n",
        "    def _build(self, X, y, depth=0):\n",
        "      '''\n",
        "      build a decision tree   \n",
        "      \n",
        "      input_ : X = features, y = target, depth \n",
        "      output : node\n",
        "      '''\n",
        "      n_rows, n_cols = X.shape\n",
        "      \n",
        "      # Check to see if a node should be leaf node\n",
        "      if n_rows >= self.min_samples_split and depth <= self.max_depth:\n",
        "          # Get the best split\n",
        "          best = self._best_split(X, y)\n",
        "          # If the split isn't pure\n",
        "          if best['gain'] > 0:\n",
        "              # Build a tree on the left\n",
        "              left = self._build(\n",
        "                  X=best['df_left'][:, :-1], \n",
        "                  y=best['df_left'][:, -1], \n",
        "                  depth=depth + 1\n",
        "              )\n",
        "              right = self._build(\n",
        "                  X=best['df_right'][:, :-1], \n",
        "                  y=best['df_right'][:, -1], \n",
        "                  depth=depth + 1\n",
        "              )\n",
        "              return Node(\n",
        "                  feature=best['feature_index'], \n",
        "                  threshold=best['threshold'], \n",
        "                  data_left=left, \n",
        "                  data_right=right, \n",
        "                  gain=best['gain']\n",
        "              )\n",
        "      # Leaf node - value is the most common target value \n",
        "      return Node(\n",
        "          value=Counter(y).most_common(1)[0][0]\n",
        "      )\n",
        "  \n",
        "    def fit(self, X, y):\n",
        "      '''\n",
        "      Train with given features and target  \n",
        "      \n",
        "      input_ : X = features, y = target \n",
        "      output : //\n",
        "      '''\n",
        "      # Call a recursive function to build the tree\n",
        "      self.root = self._build(X, y)\n",
        "      \n",
        "    def _predict(self, x, tree):\n",
        "      '''\n",
        "      classify a single test data  \n",
        "      \n",
        "      input_ : x (one input data)\n",
        "      output : class (prediction)\n",
        "      '''\n",
        "      # Leaf node\n",
        "      if tree.value != None:\n",
        "          return tree.value\n",
        "      feature_value = x[tree.feature]\n",
        "      \n",
        "      # classification\n",
        "      if feature_value <= tree.threshold:\n",
        "        return self._predict(x=x, tree=tree.data_left)\n",
        "    \n",
        "      else:\n",
        "        return self._predict(x=x, tree=tree.data_right)\n",
        "      \n",
        "    def predict(self, testing_data):\n",
        "      '''\n",
        "      classify all data\n",
        "      \n",
        "      :param X: np.array, features\n",
        "      :return: np.array, predicted classes\n",
        "      '''\n",
        "      # Call the _predict() function for every observation\n",
        "      return [self._predict(entry, self.root) for entry in testing_data]"
      ],
      "metadata": {
        "id": "N6MxZYCbXLkD"
      },
      "execution_count": 44,
      "outputs": []
    },
    {
      "cell_type": "markdown",
      "source": [
        "## Connect google drive and Import training data and testing data\n"
      ],
      "metadata": {
        "id": "5seXO3GNz80T"
      }
    },
    {
      "cell_type": "code",
      "source": [
        "from google.colab import drive\n",
        "drive.mount('/content/drive')"
      ],
      "metadata": {
        "colab": {
          "base_uri": "https://localhost:8080/"
        },
        "id": "fgGkQ84BT7Vq",
        "outputId": "e6dd8306-f985-49b3-92e5-3ecda9db8a85"
      },
      "execution_count": 57,
      "outputs": [
        {
          "output_type": "stream",
          "name": "stdout",
          "text": [
            "Drive already mounted at /content/drive; to attempt to forcibly remount, call drive.mount(\"/content/drive\", force_remount=True).\n"
          ]
        }
      ]
    },
    {
      "cell_type": "code",
      "source": [
        "# read_file(path): trianing_data features, trianing_data target, testing_data features \n",
        "train_x = read_file('/content/drive/MyDrive/ml_hw/Dataset1_train/train/X_train.xlsx') \n",
        "train_y = read_file('/content/drive/MyDrive/ml_hw/Dataset1_train/train/y_train.xlsx')\n",
        "test_x = read_file('/content/drive/MyDrive/ml_hw/Dataset1_test/X_test.xlsx')"
      ],
      "metadata": {
        "id": "dcPQLxilT0fP"
      },
      "execution_count": 58,
      "outputs": []
    },
    {
      "cell_type": "markdown",
      "source": [
        "## Data observation\n"
      ],
      "metadata": {
        "id": "IjA3MWl-2Ntr"
      }
    },
    {
      "cell_type": "markdown",
      "source": [
        "- check if data set with null values(NAN)"
      ],
      "metadata": {
        "id": "h1Eufm613Hni"
      }
    },
    {
      "cell_type": "code",
      "source": [
        "temp_df = train_x.isnull().sum().reset_index()\n",
        "temp_df['Percentage of Null Values'] = temp_df[0]/len(train_x)*100\n",
        "temp_df.columns = ['Column Name', 'Number of Null Values','Percentage of Null Values']\n",
        "temp_df"
      ],
      "metadata": {
        "colab": {
          "base_uri": "https://localhost:8080/",
          "height": 394
        },
        "id": "sAqnhIZ725um",
        "outputId": "f9a8132e-2b37-42eb-9bb4-a96de12d956a"
      },
      "execution_count": 59,
      "outputs": [
        {
          "output_type": "execute_result",
          "data": {
            "text/plain": [
              "             Column Name  Number of Null Values  Percentage of Null Values\n",
              "0          fixed_acidity                     65                   6.353861\n",
              "1       volatile_acidity                     44                   4.301075\n",
              "2            citric_acid                     60                   5.865103\n",
              "3         residual_sugar                     39                   3.812317\n",
              "4              chlorides                     52                   5.083089\n",
              "5    free_sulfur_dioxide                     57                   5.571848\n",
              "6   total_sulfur_dioxide                     45                   4.398827\n",
              "7                density                     46                   4.496579\n",
              "8                     pH                     58                   5.669599\n",
              "9              sulphates                     51                   4.985337\n",
              "10               alcohol                     58                   5.669599"
            ],
            "text/html": [
              "\n",
              "  <div id=\"df-e09252a8-21d2-47f7-a88d-24c42a21bf66\">\n",
              "    <div class=\"colab-df-container\">\n",
              "      <div>\n",
              "<style scoped>\n",
              "    .dataframe tbody tr th:only-of-type {\n",
              "        vertical-align: middle;\n",
              "    }\n",
              "\n",
              "    .dataframe tbody tr th {\n",
              "        vertical-align: top;\n",
              "    }\n",
              "\n",
              "    .dataframe thead th {\n",
              "        text-align: right;\n",
              "    }\n",
              "</style>\n",
              "<table border=\"1\" class=\"dataframe\">\n",
              "  <thead>\n",
              "    <tr style=\"text-align: right;\">\n",
              "      <th></th>\n",
              "      <th>Column Name</th>\n",
              "      <th>Number of Null Values</th>\n",
              "      <th>Percentage of Null Values</th>\n",
              "    </tr>\n",
              "  </thead>\n",
              "  <tbody>\n",
              "    <tr>\n",
              "      <th>0</th>\n",
              "      <td>fixed_acidity</td>\n",
              "      <td>65</td>\n",
              "      <td>6.353861</td>\n",
              "    </tr>\n",
              "    <tr>\n",
              "      <th>1</th>\n",
              "      <td>volatile_acidity</td>\n",
              "      <td>44</td>\n",
              "      <td>4.301075</td>\n",
              "    </tr>\n",
              "    <tr>\n",
              "      <th>2</th>\n",
              "      <td>citric_acid</td>\n",
              "      <td>60</td>\n",
              "      <td>5.865103</td>\n",
              "    </tr>\n",
              "    <tr>\n",
              "      <th>3</th>\n",
              "      <td>residual_sugar</td>\n",
              "      <td>39</td>\n",
              "      <td>3.812317</td>\n",
              "    </tr>\n",
              "    <tr>\n",
              "      <th>4</th>\n",
              "      <td>chlorides</td>\n",
              "      <td>52</td>\n",
              "      <td>5.083089</td>\n",
              "    </tr>\n",
              "    <tr>\n",
              "      <th>5</th>\n",
              "      <td>free_sulfur_dioxide</td>\n",
              "      <td>57</td>\n",
              "      <td>5.571848</td>\n",
              "    </tr>\n",
              "    <tr>\n",
              "      <th>6</th>\n",
              "      <td>total_sulfur_dioxide</td>\n",
              "      <td>45</td>\n",
              "      <td>4.398827</td>\n",
              "    </tr>\n",
              "    <tr>\n",
              "      <th>7</th>\n",
              "      <td>density</td>\n",
              "      <td>46</td>\n",
              "      <td>4.496579</td>\n",
              "    </tr>\n",
              "    <tr>\n",
              "      <th>8</th>\n",
              "      <td>pH</td>\n",
              "      <td>58</td>\n",
              "      <td>5.669599</td>\n",
              "    </tr>\n",
              "    <tr>\n",
              "      <th>9</th>\n",
              "      <td>sulphates</td>\n",
              "      <td>51</td>\n",
              "      <td>4.985337</td>\n",
              "    </tr>\n",
              "    <tr>\n",
              "      <th>10</th>\n",
              "      <td>alcohol</td>\n",
              "      <td>58</td>\n",
              "      <td>5.669599</td>\n",
              "    </tr>\n",
              "  </tbody>\n",
              "</table>\n",
              "</div>\n",
              "      <button class=\"colab-df-convert\" onclick=\"convertToInteractive('df-e09252a8-21d2-47f7-a88d-24c42a21bf66')\"\n",
              "              title=\"Convert this dataframe to an interactive table.\"\n",
              "              style=\"display:none;\">\n",
              "        \n",
              "  <svg xmlns=\"http://www.w3.org/2000/svg\" height=\"24px\"viewBox=\"0 0 24 24\"\n",
              "       width=\"24px\">\n",
              "    <path d=\"M0 0h24v24H0V0z\" fill=\"none\"/>\n",
              "    <path d=\"M18.56 5.44l.94 2.06.94-2.06 2.06-.94-2.06-.94-.94-2.06-.94 2.06-2.06.94zm-11 1L8.5 8.5l.94-2.06 2.06-.94-2.06-.94L8.5 2.5l-.94 2.06-2.06.94zm10 10l.94 2.06.94-2.06 2.06-.94-2.06-.94-.94-2.06-.94 2.06-2.06.94z\"/><path d=\"M17.41 7.96l-1.37-1.37c-.4-.4-.92-.59-1.43-.59-.52 0-1.04.2-1.43.59L10.3 9.45l-7.72 7.72c-.78.78-.78 2.05 0 2.83L4 21.41c.39.39.9.59 1.41.59.51 0 1.02-.2 1.41-.59l7.78-7.78 2.81-2.81c.8-.78.8-2.07 0-2.86zM5.41 20L4 18.59l7.72-7.72 1.47 1.35L5.41 20z\"/>\n",
              "  </svg>\n",
              "      </button>\n",
              "      \n",
              "  <style>\n",
              "    .colab-df-container {\n",
              "      display:flex;\n",
              "      flex-wrap:wrap;\n",
              "      gap: 12px;\n",
              "    }\n",
              "\n",
              "    .colab-df-convert {\n",
              "      background-color: #E8F0FE;\n",
              "      border: none;\n",
              "      border-radius: 50%;\n",
              "      cursor: pointer;\n",
              "      display: none;\n",
              "      fill: #1967D2;\n",
              "      height: 32px;\n",
              "      padding: 0 0 0 0;\n",
              "      width: 32px;\n",
              "    }\n",
              "\n",
              "    .colab-df-convert:hover {\n",
              "      background-color: #E2EBFA;\n",
              "      box-shadow: 0px 1px 2px rgba(60, 64, 67, 0.3), 0px 1px 3px 1px rgba(60, 64, 67, 0.15);\n",
              "      fill: #174EA6;\n",
              "    }\n",
              "\n",
              "    [theme=dark] .colab-df-convert {\n",
              "      background-color: #3B4455;\n",
              "      fill: #D2E3FC;\n",
              "    }\n",
              "\n",
              "    [theme=dark] .colab-df-convert:hover {\n",
              "      background-color: #434B5C;\n",
              "      box-shadow: 0px 1px 3px 1px rgba(0, 0, 0, 0.15);\n",
              "      filter: drop-shadow(0px 1px 2px rgba(0, 0, 0, 0.3));\n",
              "      fill: #FFFFFF;\n",
              "    }\n",
              "  </style>\n",
              "\n",
              "      <script>\n",
              "        const buttonEl =\n",
              "          document.querySelector('#df-e09252a8-21d2-47f7-a88d-24c42a21bf66 button.colab-df-convert');\n",
              "        buttonEl.style.display =\n",
              "          google.colab.kernel.accessAllowed ? 'block' : 'none';\n",
              "\n",
              "        async function convertToInteractive(key) {\n",
              "          const element = document.querySelector('#df-e09252a8-21d2-47f7-a88d-24c42a21bf66');\n",
              "          const dataTable =\n",
              "            await google.colab.kernel.invokeFunction('convertToInteractive',\n",
              "                                                     [key], {});\n",
              "          if (!dataTable) return;\n",
              "\n",
              "          const docLinkHtml = 'Like what you see? Visit the ' +\n",
              "            '<a target=\"_blank\" href=https://colab.research.google.com/notebooks/data_table.ipynb>data table notebook</a>'\n",
              "            + ' to learn more about interactive tables.';\n",
              "          element.innerHTML = '';\n",
              "          dataTable['output_type'] = 'display_data';\n",
              "          await google.colab.output.renderOutput(dataTable, element);\n",
              "          const docLink = document.createElement('div');\n",
              "          docLink.innerHTML = docLinkHtml;\n",
              "          element.appendChild(docLink);\n",
              "        }\n",
              "      </script>\n",
              "    </div>\n",
              "  </div>\n",
              "  "
            ]
          },
          "metadata": {},
          "execution_count": 59
        }
      ]
    },
    {
      "cell_type": "code",
      "source": [
        "train_x.info()\n",
        "train_x.head(n = 10).style.background_gradient(cmap = \"Purples_r\")"
      ],
      "metadata": {
        "colab": {
          "base_uri": "https://localhost:8080/",
          "height": 675
        },
        "id": "t-S3Yq2w3YT8",
        "outputId": "0c071c2f-07a4-4fb8-8d2c-34cb51913ca6"
      },
      "execution_count": 60,
      "outputs": [
        {
          "output_type": "stream",
          "name": "stdout",
          "text": [
            "<class 'pandas.core.frame.DataFrame'>\n",
            "RangeIndex: 1023 entries, 0 to 1022\n",
            "Data columns (total 11 columns):\n",
            " #   Column                Non-Null Count  Dtype  \n",
            "---  ------                --------------  -----  \n",
            " 0   fixed_acidity         958 non-null    float64\n",
            " 1   volatile_acidity      979 non-null    float64\n",
            " 2   citric_acid           963 non-null    float64\n",
            " 3   residual_sugar        984 non-null    float64\n",
            " 4   chlorides             971 non-null    float64\n",
            " 5   free_sulfur_dioxide   966 non-null    float64\n",
            " 6   total_sulfur_dioxide  978 non-null    float64\n",
            " 7   density               977 non-null    float64\n",
            " 8   pH                    965 non-null    float64\n",
            " 9   sulphates             972 non-null    float64\n",
            " 10  alcohol               965 non-null    float64\n",
            "dtypes: float64(11)\n",
            "memory usage: 88.0 KB\n"
          ]
        },
        {
          "output_type": "execute_result",
          "data": {
            "text/plain": [
              "<pandas.io.formats.style.Styler at 0x7fdef1906040>"
            ],
            "text/html": [
              "<style type=\"text/css\">\n",
              "#T_97aee_row0_col0, #T_97aee_row8_col0 {\n",
              "  background-color: #51218c;\n",
              "  color: #f1f1f1;\n",
              "}\n",
              "#T_97aee_row0_col1, #T_97aee_row0_col3, #T_97aee_row0_col4, #T_97aee_row1_col9, #T_97aee_row3_col8, #T_97aee_row4_col0, #T_97aee_row5_col7, #T_97aee_row6_col5, #T_97aee_row6_col6, #T_97aee_row7_col3, #T_97aee_row7_col10, #T_97aee_row9_col2 {\n",
              "  background-color: #3f007d;\n",
              "  color: #f1f1f1;\n",
              "}\n",
              "#T_97aee_row0_col2 {\n",
              "  background-color: #cdcde4;\n",
              "  color: #000000;\n",
              "}\n",
              "#T_97aee_row0_col5, #T_97aee_row1_col8, #T_97aee_row4_col10, #T_97aee_row5_col8, #T_97aee_row7_col5, #T_97aee_row8_col5 {\n",
              "  background-color: #000000;\n",
              "  color: #f1f1f1;\n",
              "}\n",
              "#T_97aee_row0_col6 {\n",
              "  background-color: #908dc2;\n",
              "  color: #f1f1f1;\n",
              "}\n",
              "#T_97aee_row0_col7 {\n",
              "  background-color: #51228d;\n",
              "  color: #f1f1f1;\n",
              "}\n",
              "#T_97aee_row0_col8, #T_97aee_row2_col5, #T_97aee_row3_col10 {\n",
              "  background-color: #c3c4e0;\n",
              "  color: #000000;\n",
              "}\n",
              "#T_97aee_row0_col9 {\n",
              "  background-color: #705ca9;\n",
              "  color: #f1f1f1;\n",
              "}\n",
              "#T_97aee_row0_col10 {\n",
              "  background-color: #d4d4e8;\n",
              "  color: #000000;\n",
              "}\n",
              "#T_97aee_row1_col0 {\n",
              "  background-color: #6950a3;\n",
              "  color: #f1f1f1;\n",
              "}\n",
              "#T_97aee_row1_col1 {\n",
              "  background-color: #d2d2e7;\n",
              "  color: #000000;\n",
              "}\n",
              "#T_97aee_row1_col2 {\n",
              "  background-color: #8c88bf;\n",
              "  color: #f1f1f1;\n",
              "}\n",
              "#T_97aee_row1_col3 {\n",
              "  background-color: #705eaa;\n",
              "  color: #f1f1f1;\n",
              "}\n",
              "#T_97aee_row1_col4, #T_97aee_row1_col7, #T_97aee_row7_col4 {\n",
              "  background-color: #796eb2;\n",
              "  color: #f1f1f1;\n",
              "}\n",
              "#T_97aee_row1_col5, #T_97aee_row1_col6, #T_97aee_row3_col0, #T_97aee_row3_col2, #T_97aee_row3_col7, #T_97aee_row5_col10, #T_97aee_row8_col1, #T_97aee_row8_col4, #T_97aee_row9_col3, #T_97aee_row9_col8, #T_97aee_row9_col9 {\n",
              "  background-color: #fcfbfd;\n",
              "  color: #000000;\n",
              "}\n",
              "#T_97aee_row1_col10, #T_97aee_row7_col8 {\n",
              "  background-color: #7566ae;\n",
              "  color: #f1f1f1;\n",
              "}\n",
              "#T_97aee_row2_col0, #T_97aee_row3_col4 {\n",
              "  background-color: #b3b3d6;\n",
              "  color: #000000;\n",
              "}\n",
              "#T_97aee_row2_col1 {\n",
              "  background-color: #f1eff6;\n",
              "  color: #000000;\n",
              "}\n",
              "#T_97aee_row2_col2 {\n",
              "  background-color: #a7a4ce;\n",
              "  color: #f1f1f1;\n",
              "}\n",
              "#T_97aee_row2_col3 {\n",
              "  background-color: #c0c1de;\n",
              "  color: #000000;\n",
              "}\n",
              "#T_97aee_row2_col4, #T_97aee_row6_col8 {\n",
              "  background-color: #9c98c7;\n",
              "  color: #f1f1f1;\n",
              "}\n",
              "#T_97aee_row2_col6 {\n",
              "  background-color: #c2c3df;\n",
              "  color: #000000;\n",
              "}\n",
              "#T_97aee_row2_col7 {\n",
              "  background-color: #cfd0e6;\n",
              "  color: #000000;\n",
              "}\n",
              "#T_97aee_row2_col8 {\n",
              "  background-color: #6e58a7;\n",
              "  color: #f1f1f1;\n",
              "}\n",
              "#T_97aee_row2_col9 {\n",
              "  background-color: #6b53a4;\n",
              "  color: #f1f1f1;\n",
              "}\n",
              "#T_97aee_row2_col10, #T_97aee_row6_col10 {\n",
              "  background-color: #817ebb;\n",
              "  color: #f1f1f1;\n",
              "}\n",
              "#T_97aee_row3_col1 {\n",
              "  background-color: #715faa;\n",
              "  color: #f1f1f1;\n",
              "}\n",
              "#T_97aee_row3_col3, #T_97aee_row4_col9 {\n",
              "  background-color: #7d77b7;\n",
              "  color: #f1f1f1;\n",
              "}\n",
              "#T_97aee_row3_col5 {\n",
              "  background-color: #450b82;\n",
              "  color: #f1f1f1;\n",
              "}\n",
              "#T_97aee_row3_col6 {\n",
              "  background-color: #4a1587;\n",
              "  color: #f1f1f1;\n",
              "}\n",
              "#T_97aee_row3_col9 {\n",
              "  background-color: #9b97c6;\n",
              "  color: #f1f1f1;\n",
              "}\n",
              "#T_97aee_row4_col1 {\n",
              "  background-color: #e2e1ef;\n",
              "  color: #000000;\n",
              "}\n",
              "#T_97aee_row4_col2 {\n",
              "  background-color: #776cb1;\n",
              "  color: #f1f1f1;\n",
              "}\n",
              "#T_97aee_row4_col3, #T_97aee_row8_col3 {\n",
              "  background-color: #572c92;\n",
              "  color: #f1f1f1;\n",
              "}\n",
              "#T_97aee_row4_col4 {\n",
              "  background-color: #7c75b6;\n",
              "  color: #f1f1f1;\n",
              "}\n",
              "#T_97aee_row4_col5 {\n",
              "  background-color: #7b72b4;\n",
              "  color: #f1f1f1;\n",
              "}\n",
              "#T_97aee_row4_col6 {\n",
              "  background-color: #552890;\n",
              "  color: #f1f1f1;\n",
              "}\n",
              "#T_97aee_row4_col7 {\n",
              "  background-color: #9a96c6;\n",
              "  color: #f1f1f1;\n",
              "}\n",
              "#T_97aee_row4_col8 {\n",
              "  background-color: #e6e5f1;\n",
              "  color: #000000;\n",
              "}\n",
              "#T_97aee_row5_col0, #T_97aee_row8_col9 {\n",
              "  background-color: #5d3897;\n",
              "  color: #f1f1f1;\n",
              "}\n",
              "#T_97aee_row5_col1 {\n",
              "  background-color: #674ba0;\n",
              "  color: #f1f1f1;\n",
              "}\n",
              "#T_97aee_row5_col2 {\n",
              "  background-color: #acaad1;\n",
              "  color: #000000;\n",
              "}\n",
              "#T_97aee_row5_col3, #T_97aee_row6_col3 {\n",
              "  background-color: #afaed4;\n",
              "  color: #000000;\n",
              "}\n",
              "#T_97aee_row5_col4 {\n",
              "  background-color: #4f1f8b;\n",
              "  color: #f1f1f1;\n",
              "}\n",
              "#T_97aee_row5_col5, #T_97aee_row8_col2 {\n",
              "  background-color: #593093;\n",
              "  color: #f1f1f1;\n",
              "}\n",
              "#T_97aee_row5_col6, #T_97aee_row6_col0, #T_97aee_row9_col0 {\n",
              "  background-color: #4d1b89;\n",
              "  color: #f1f1f1;\n",
              "}\n",
              "#T_97aee_row5_col9, #T_97aee_row6_col9 {\n",
              "  background-color: #62429c;\n",
              "  color: #f1f1f1;\n",
              "}\n",
              "#T_97aee_row6_col1 {\n",
              "  background-color: #6a51a3;\n",
              "  color: #f1f1f1;\n",
              "}\n",
              "#T_97aee_row6_col2 {\n",
              "  background-color: #8784bd;\n",
              "  color: #f1f1f1;\n",
              "}\n",
              "#T_97aee_row6_col4 {\n",
              "  background-color: #cbcbe3;\n",
              "  color: #000000;\n",
              "}\n",
              "#T_97aee_row6_col7 {\n",
              "  background-color: #807cba;\n",
              "  color: #f1f1f1;\n",
              "}\n",
              "#T_97aee_row7_col0 {\n",
              "  background-color: #613f9a;\n",
              "  color: #f1f1f1;\n",
              "}\n",
              "#T_97aee_row7_col1 {\n",
              "  background-color: #7f7bb9;\n",
              "  color: #f1f1f1;\n",
              "}\n",
              "#T_97aee_row7_col2 {\n",
              "  background-color: #a29fcb;\n",
              "  color: #f1f1f1;\n",
              "}\n",
              "#T_97aee_row7_col6 {\n",
              "  background-color: #65489f;\n",
              "  color: #f1f1f1;\n",
              "}\n",
              "#T_97aee_row7_col7 {\n",
              "  background-color: #cacae3;\n",
              "  color: #000000;\n",
              "}\n",
              "#T_97aee_row7_col9 {\n",
              "  background-color: #7465ad;\n",
              "  color: #f1f1f1;\n",
              "}\n",
              "#T_97aee_row8_col6 {\n",
              "  background-color: #8a86bf;\n",
              "  color: #f1f1f1;\n",
              "}\n",
              "#T_97aee_row8_col7 {\n",
              "  background-color: #6c54a5;\n",
              "  color: #f1f1f1;\n",
              "}\n",
              "#T_97aee_row8_col8 {\n",
              "  background-color: #582e92;\n",
              "  color: #f1f1f1;\n",
              "}\n",
              "#T_97aee_row8_col10 {\n",
              "  background-color: #5c3797;\n",
              "  color: #f1f1f1;\n",
              "}\n",
              "#T_97aee_row9_col1 {\n",
              "  background-color: #b7b7d9;\n",
              "  color: #000000;\n",
              "}\n",
              "#T_97aee_row9_col4 {\n",
              "  background-color: #6e5aa8;\n",
              "  color: #f1f1f1;\n",
              "}\n",
              "#T_97aee_row9_col5 {\n",
              "  background-color: #4c1788;\n",
              "  color: #f1f1f1;\n",
              "}\n",
              "#T_97aee_row9_col6 {\n",
              "  background-color: #4f1d8b;\n",
              "  color: #f1f1f1;\n",
              "}\n",
              "#T_97aee_row9_col7 {\n",
              "  background-color: #f0eef5;\n",
              "  color: #000000;\n",
              "}\n",
              "#T_97aee_row9_col10 {\n",
              "  background-color: #562b91;\n",
              "  color: #f1f1f1;\n",
              "}\n",
              "</style>\n",
              "<table id=\"T_97aee_\" class=\"dataframe\">\n",
              "  <thead>\n",
              "    <tr>\n",
              "      <th class=\"blank level0\" >&nbsp;</th>\n",
              "      <th class=\"col_heading level0 col0\" >fixed_acidity</th>\n",
              "      <th class=\"col_heading level0 col1\" >volatile_acidity</th>\n",
              "      <th class=\"col_heading level0 col2\" >citric_acid</th>\n",
              "      <th class=\"col_heading level0 col3\" >residual_sugar</th>\n",
              "      <th class=\"col_heading level0 col4\" >chlorides</th>\n",
              "      <th class=\"col_heading level0 col5\" >free_sulfur_dioxide</th>\n",
              "      <th class=\"col_heading level0 col6\" >total_sulfur_dioxide</th>\n",
              "      <th class=\"col_heading level0 col7\" >density</th>\n",
              "      <th class=\"col_heading level0 col8\" >pH</th>\n",
              "      <th class=\"col_heading level0 col9\" >sulphates</th>\n",
              "      <th class=\"col_heading level0 col10\" >alcohol</th>\n",
              "    </tr>\n",
              "  </thead>\n",
              "  <tbody>\n",
              "    <tr>\n",
              "      <th id=\"T_97aee_level0_row0\" class=\"row_heading level0 row0\" >0</th>\n",
              "      <td id=\"T_97aee_row0_col0\" class=\"data row0 col0\" >7.000000</td>\n",
              "      <td id=\"T_97aee_row0_col1\" class=\"data row0 col1\" >0.230000</td>\n",
              "      <td id=\"T_97aee_row0_col2\" class=\"data row0 col2\" >0.400000</td>\n",
              "      <td id=\"T_97aee_row0_col3\" class=\"data row0 col3\" >1.600000</td>\n",
              "      <td id=\"T_97aee_row0_col4\" class=\"data row0 col4\" >0.063000</td>\n",
              "      <td id=\"T_97aee_row0_col5\" class=\"data row0 col5\" >nan</td>\n",
              "      <td id=\"T_97aee_row0_col6\" class=\"data row0 col6\" >67.000000</td>\n",
              "      <td id=\"T_97aee_row0_col7\" class=\"data row0 col7\" >0.995200</td>\n",
              "      <td id=\"T_97aee_row0_col8\" class=\"data row0 col8\" >3.500000</td>\n",
              "      <td id=\"T_97aee_row0_col9\" class=\"data row0 col9\" >0.630000</td>\n",
              "      <td id=\"T_97aee_row0_col10\" class=\"data row0 col10\" >11.100000</td>\n",
              "    </tr>\n",
              "    <tr>\n",
              "      <th id=\"T_97aee_level0_row1\" class=\"row_heading level0 row1\" >1</th>\n",
              "      <td id=\"T_97aee_row1_col0\" class=\"data row1 col0\" >7.800000</td>\n",
              "      <td id=\"T_97aee_row1_col1\" class=\"data row1 col1\" >0.600000</td>\n",
              "      <td id=\"T_97aee_row1_col2\" class=\"data row1 col2\" >0.260000</td>\n",
              "      <td id=\"T_97aee_row1_col3\" class=\"data row1 col3\" >2.000000</td>\n",
              "      <td id=\"T_97aee_row1_col4\" class=\"data row1 col4\" >0.080000</td>\n",
              "      <td id=\"T_97aee_row1_col5\" class=\"data row1 col5\" >31.000000</td>\n",
              "      <td id=\"T_97aee_row1_col6\" class=\"data row1 col6\" >131.000000</td>\n",
              "      <td id=\"T_97aee_row1_col7\" class=\"data row1 col7\" >0.996220</td>\n",
              "      <td id=\"T_97aee_row1_col8\" class=\"data row1 col8\" >nan</td>\n",
              "      <td id=\"T_97aee_row1_col9\" class=\"data row1 col9\" >0.520000</td>\n",
              "      <td id=\"T_97aee_row1_col10\" class=\"data row1 col10\" >9.900000</td>\n",
              "    </tr>\n",
              "    <tr>\n",
              "      <th id=\"T_97aee_level0_row2\" class=\"row_heading level0 row2\" >2</th>\n",
              "      <td id=\"T_97aee_row2_col0\" class=\"data row2 col0\" >9.700000</td>\n",
              "      <td id=\"T_97aee_row2_col1\" class=\"data row2 col1\" >0.690000</td>\n",
              "      <td id=\"T_97aee_row2_col2\" class=\"data row2 col2\" >0.320000</td>\n",
              "      <td id=\"T_97aee_row2_col3\" class=\"data row2 col3\" >2.500000</td>\n",
              "      <td id=\"T_97aee_row2_col4\" class=\"data row2 col4\" >0.088000</td>\n",
              "      <td id=\"T_97aee_row2_col5\" class=\"data row2 col5\" >22.000000</td>\n",
              "      <td id=\"T_97aee_row2_col6\" class=\"data row2 col6\" >91.000000</td>\n",
              "      <td id=\"T_97aee_row2_col7\" class=\"data row2 col7\" >0.997900</td>\n",
              "      <td id=\"T_97aee_row2_col8\" class=\"data row2 col8\" >3.290000</td>\n",
              "      <td id=\"T_97aee_row2_col9\" class=\"data row2 col9\" >0.620000</td>\n",
              "      <td id=\"T_97aee_row2_col10\" class=\"data row2 col10\" >10.100000</td>\n",
              "    </tr>\n",
              "    <tr>\n",
              "      <th id=\"T_97aee_level0_row3\" class=\"row_heading level0 row3\" >3</th>\n",
              "      <td id=\"T_97aee_row3_col0\" class=\"data row3 col0\" >12.000000</td>\n",
              "      <td id=\"T_97aee_row3_col1\" class=\"data row3 col1\" >0.380000</td>\n",
              "      <td id=\"T_97aee_row3_col2\" class=\"data row3 col2\" >0.560000</td>\n",
              "      <td id=\"T_97aee_row3_col3\" class=\"data row3 col3\" >2.100000</td>\n",
              "      <td id=\"T_97aee_row3_col4\" class=\"data row3 col4\" >0.093000</td>\n",
              "      <td id=\"T_97aee_row3_col5\" class=\"data row3 col5\" >6.000000</td>\n",
              "      <td id=\"T_97aee_row3_col6\" class=\"data row3 col6\" >24.000000</td>\n",
              "      <td id=\"T_97aee_row3_col7\" class=\"data row3 col7\" >0.999250</td>\n",
              "      <td id=\"T_97aee_row3_col8\" class=\"data row3 col8\" >3.140000</td>\n",
              "      <td id=\"T_97aee_row3_col9\" class=\"data row3 col9\" >0.710000</td>\n",
              "      <td id=\"T_97aee_row3_col10\" class=\"data row3 col10\" >10.900000</td>\n",
              "    </tr>\n",
              "    <tr>\n",
              "      <th id=\"T_97aee_level0_row4\" class=\"row_heading level0 row4\" >4</th>\n",
              "      <td id=\"T_97aee_row4_col0\" class=\"data row4 col0\" >6.400000</td>\n",
              "      <td id=\"T_97aee_row4_col1\" class=\"data row4 col1\" >0.640000</td>\n",
              "      <td id=\"T_97aee_row4_col2\" class=\"data row4 col2\" >0.210000</td>\n",
              "      <td id=\"T_97aee_row4_col3\" class=\"data row4 col3\" >1.800000</td>\n",
              "      <td id=\"T_97aee_row4_col4\" class=\"data row4 col4\" >0.081000</td>\n",
              "      <td id=\"T_97aee_row4_col5\" class=\"data row4 col5\" >14.000000</td>\n",
              "      <td id=\"T_97aee_row4_col6\" class=\"data row4 col6\" >31.000000</td>\n",
              "      <td id=\"T_97aee_row4_col7\" class=\"data row4 col7\" >0.996890</td>\n",
              "      <td id=\"T_97aee_row4_col8\" class=\"data row4 col8\" >3.590000</td>\n",
              "      <td id=\"T_97aee_row4_col9\" class=\"data row4 col9\" >0.660000</td>\n",
              "      <td id=\"T_97aee_row4_col10\" class=\"data row4 col10\" >nan</td>\n",
              "    </tr>\n",
              "    <tr>\n",
              "      <th id=\"T_97aee_level0_row5\" class=\"row_heading level0 row5\" >5</th>\n",
              "      <td id=\"T_97aee_row5_col0\" class=\"data row5 col0\" >7.400000</td>\n",
              "      <td id=\"T_97aee_row5_col1\" class=\"data row5 col1\" >0.350000</td>\n",
              "      <td id=\"T_97aee_row5_col2\" class=\"data row5 col2\" >0.330000</td>\n",
              "      <td id=\"T_97aee_row5_col3\" class=\"data row5 col3\" >2.400000</td>\n",
              "      <td id=\"T_97aee_row5_col4\" class=\"data row5 col4\" >0.068000</td>\n",
              "      <td id=\"T_97aee_row5_col5\" class=\"data row5 col5\" >9.000000</td>\n",
              "      <td id=\"T_97aee_row5_col6\" class=\"data row5 col6\" >26.000000</td>\n",
              "      <td id=\"T_97aee_row5_col7\" class=\"data row5 col7\" >0.994700</td>\n",
              "      <td id=\"T_97aee_row5_col8\" class=\"data row5 col8\" >nan</td>\n",
              "      <td id=\"T_97aee_row5_col9\" class=\"data row5 col9\" >0.600000</td>\n",
              "      <td id=\"T_97aee_row5_col10\" class=\"data row5 col10\" >11.900000</td>\n",
              "    </tr>\n",
              "    <tr>\n",
              "      <th id=\"T_97aee_level0_row6\" class=\"row_heading level0 row6\" >6</th>\n",
              "      <td id=\"T_97aee_row6_col0\" class=\"data row6 col0\" >6.900000</td>\n",
              "      <td id=\"T_97aee_row6_col1\" class=\"data row6 col1\" >0.360000</td>\n",
              "      <td id=\"T_97aee_row6_col2\" class=\"data row6 col2\" >0.250000</td>\n",
              "      <td id=\"T_97aee_row6_col3\" class=\"data row6 col3\" >2.400000</td>\n",
              "      <td id=\"T_97aee_row6_col4\" class=\"data row6 col4\" >0.098000</td>\n",
              "      <td id=\"T_97aee_row6_col5\" class=\"data row6 col5\" >5.000000</td>\n",
              "      <td id=\"T_97aee_row6_col6\" class=\"data row6 col6\" >16.000000</td>\n",
              "      <td id=\"T_97aee_row6_col7\" class=\"data row6 col7\" >0.996400</td>\n",
              "      <td id=\"T_97aee_row6_col8\" class=\"data row6 col8\" >3.410000</td>\n",
              "      <td id=\"T_97aee_row6_col9\" class=\"data row6 col9\" >0.600000</td>\n",
              "      <td id=\"T_97aee_row6_col10\" class=\"data row6 col10\" >10.100000</td>\n",
              "    </tr>\n",
              "    <tr>\n",
              "      <th id=\"T_97aee_level0_row7\" class=\"row_heading level0 row7\" >7</th>\n",
              "      <td id=\"T_97aee_row7_col0\" class=\"data row7 col0\" >7.500000</td>\n",
              "      <td id=\"T_97aee_row7_col1\" class=\"data row7 col1\" >0.420000</td>\n",
              "      <td id=\"T_97aee_row7_col2\" class=\"data row7 col2\" >0.310000</td>\n",
              "      <td id=\"T_97aee_row7_col3\" class=\"data row7 col3\" >1.600000</td>\n",
              "      <td id=\"T_97aee_row7_col4\" class=\"data row7 col4\" >0.080000</td>\n",
              "      <td id=\"T_97aee_row7_col5\" class=\"data row7 col5\" >nan</td>\n",
              "      <td id=\"T_97aee_row7_col6\" class=\"data row7 col6\" >42.000000</td>\n",
              "      <td id=\"T_97aee_row7_col7\" class=\"data row7 col7\" >0.997800</td>\n",
              "      <td id=\"T_97aee_row7_col8\" class=\"data row7 col8\" >3.310000</td>\n",
              "      <td id=\"T_97aee_row7_col9\" class=\"data row7 col9\" >0.640000</td>\n",
              "      <td id=\"T_97aee_row7_col10\" class=\"data row7 col10\" >9.000000</td>\n",
              "    </tr>\n",
              "    <tr>\n",
              "      <th id=\"T_97aee_level0_row8\" class=\"row_heading level0 row8\" >8</th>\n",
              "      <td id=\"T_97aee_row8_col0\" class=\"data row8 col0\" >7.000000</td>\n",
              "      <td id=\"T_97aee_row8_col1\" class=\"data row8 col1\" >0.745000</td>\n",
              "      <td id=\"T_97aee_row8_col2\" class=\"data row8 col2\" >0.120000</td>\n",
              "      <td id=\"T_97aee_row8_col3\" class=\"data row8 col3\" >1.800000</td>\n",
              "      <td id=\"T_97aee_row8_col4\" class=\"data row8 col4\" >0.114000</td>\n",
              "      <td id=\"T_97aee_row8_col5\" class=\"data row8 col5\" >nan</td>\n",
              "      <td id=\"T_97aee_row8_col6\" class=\"data row8 col6\" >64.000000</td>\n",
              "      <td id=\"T_97aee_row8_col7\" class=\"data row8 col7\" >0.995880</td>\n",
              "      <td id=\"T_97aee_row8_col8\" class=\"data row8 col8\" >3.220000</td>\n",
              "      <td id=\"T_97aee_row8_col9\" class=\"data row8 col9\" >0.590000</td>\n",
              "      <td id=\"T_97aee_row8_col10\" class=\"data row8 col10\" >9.500000</td>\n",
              "    </tr>\n",
              "    <tr>\n",
              "      <th id=\"T_97aee_level0_row9\" class=\"row_heading level0 row9\" >9</th>\n",
              "      <td id=\"T_97aee_row9_col0\" class=\"data row9 col0\" >6.900000</td>\n",
              "      <td id=\"T_97aee_row9_col1\" class=\"data row9 col1\" >0.540000</td>\n",
              "      <td id=\"T_97aee_row9_col2\" class=\"data row9 col2\" >0.040000</td>\n",
              "      <td id=\"T_97aee_row9_col3\" class=\"data row9 col3\" >3.000000</td>\n",
              "      <td id=\"T_97aee_row9_col4\" class=\"data row9 col4\" >0.077000</td>\n",
              "      <td id=\"T_97aee_row9_col5\" class=\"data row9 col5\" >7.000000</td>\n",
              "      <td id=\"T_97aee_row9_col6\" class=\"data row9 col6\" >27.000000</td>\n",
              "      <td id=\"T_97aee_row9_col7\" class=\"data row9 col7\" >0.998700</td>\n",
              "      <td id=\"T_97aee_row9_col8\" class=\"data row9 col8\" >3.690000</td>\n",
              "      <td id=\"T_97aee_row9_col9\" class=\"data row9 col9\" >0.910000</td>\n",
              "      <td id=\"T_97aee_row9_col10\" class=\"data row9 col10\" >9.400000</td>\n",
              "    </tr>\n",
              "  </tbody>\n",
              "</table>\n"
            ]
          },
          "metadata": {},
          "execution_count": 60
        }
      ]
    },
    {
      "cell_type": "markdown",
      "source": [
        "- The distribution of different features"
      ],
      "metadata": {
        "id": "rMC-pZRZ4cme"
      }
    },
    {
      "cell_type": "code",
      "source": [
        "fig, axes = plt.subplots(1, 3, figsize = (20, 5))\n",
        "\n",
        "sns.histplot(ax = axes[0], x = train_x[\"fixed_acidity\"],\n",
        "             bins = 10,\n",
        "             kde = True,\n",
        "             cbar = True,\n",
        "             color = \"#FFE5CC\").set(title = \"Distribution of 'fixed_acidity'\");\n",
        "\n",
        "sns.histplot(ax = axes[1], x = train_x[\"volatile_acidity\"],\n",
        "             bins = 10,\n",
        "             cbar = True,\n",
        "             kde = True,\n",
        "             color = \"#FFFFCC\").set(title = \"Distribution of 'volatile_acidity'\");\n",
        "\n",
        "sns.histplot(ax = axes[2], x = train_x[\"citric_acid\"],\n",
        "             bins = 10,\n",
        "             kde = True,   \n",
        "             cbar = True,\n",
        "             color = \"#E5FFCC\").set(title = \"Distribution of 'citric_acid'\");"
      ],
      "metadata": {
        "colab": {
          "base_uri": "https://localhost:8080/",
          "height": 351
        },
        "id": "yUX8VqPW30Gz",
        "outputId": "29ac6909-c39b-4429-cd6d-1008fc29b0fa"
      },
      "execution_count": 64,
      "outputs": [
        {
          "output_type": "display_data",
          "data": {
            "text/plain": [
              "<Figure size 1440x360 with 3 Axes>"
            ],
            "image/png": "[encoded data removed]"
          },
          "metadata": {
            "needs_background": "light"
          }
        }
      ]
    },
    {
      "cell_type": "code",
      "source": [
        "fig, axes = plt.subplots(1, 3, figsize=(20, 5))\n",
        "\n",
        "sns.histplot(ax = axes[0], x = train_x[\"alcohol\"],\n",
        "             bins = 10,    \n",
        "             kde = True,\n",
        "             cbar = True,\n",
        "             color = \"#CCFFFF\").set(title = \"Distribution of 'alcohol'\");\n",
        "\n",
        "sns.histplot(ax = axes[1], x = train_x[\"residual_sugar\"],\n",
        "             bins = 10,\n",
        "             kde = True,\n",
        "             cbar = True,\n",
        "             color = \"#CCCCFF\").set(title = \"Distribution of 'residual_sugar'\");\n",
        "\n",
        "sns.histplot(ax = axes[2], x = train_x[\"chlorides\"],\n",
        "             bins = 10,\n",
        "             kde = True,   \n",
        "             cbar = True,\n",
        "             color = \"#FFCCFF\").set(title = \"Distribution of 'chlorides'\");"
      ],
      "metadata": {
        "colab": {
          "base_uri": "https://localhost:8080/",
          "height": 351
        },
        "id": "Bgvz-Goj4FpN",
        "outputId": "c81df9e9-f1c3-4c8f-b1a3-3051221556bb"
      },
      "execution_count": 67,
      "outputs": [
        {
          "output_type": "display_data",
          "data": {
            "text/plain": [
              "<Figure size 1440x360 with 3 Axes>"
            ],
            "image/png": "[encoded data removed]"
          },
          "metadata": {
            "needs_background": "light"
          }
        }
      ]
    },
    {
      "cell_type": "code",
      "source": [
        "# Checking for outliers\n",
        "plt.figure(figsize = (20, 8))\n",
        "for i in range (len(train_x.columns)):\n",
        "    plt.subplot(2, 6, i+1)\n",
        "    sns.boxplot(x = train_x.iloc[:, i])\n",
        "    plt.xlabel(train_x.columns[i], size = 12)"
      ],
      "metadata": {
        "colab": {
          "base_uri": "https://localhost:8080/",
          "height": 500
        },
        "id": "657jqnbD490G",
        "outputId": "8936857a-1e91-40c1-92d9-8e5fee1013ea"
      },
      "execution_count": 73,
      "outputs": [
        {
          "output_type": "display_data",
          "data": {
            "text/plain": [
              "<Figure size 1440x576 with 11 Axes>"
            ],
            "image/png": "[encoded data removed]"
          },
          "metadata": {
            "needs_background": "light"
          }
        }
      ]
    },
    {
      "cell_type": "markdown",
      "source": [
        "## Deal with missing data"
      ],
      "metadata": {
        "id": "So5K17xL0U_y"
      }
    },
    {
      "cell_type": "code",
      "source": [
        "for feature in train_x:\n",
        "  train_x[feature] = train_x[feature].fillna((train_x[feature].mean()))"
      ],
      "metadata": {
        "id": "Kwc4XGFAWYmh"
      },
      "execution_count": 49,
      "outputs": []
    },
    {
      "cell_type": "code",
      "source": [
        "for feature in test_x:\n",
        "  test_x[feature] = test_x[feature].fillna((test_x[feature].mean()))"
      ],
      "metadata": {
        "id": "1T_iz_3uGsk0"
      },
      "execution_count": 50,
      "outputs": []
    },
    {
      "cell_type": "markdown",
      "source": [
        "## Turn the input data to suitable datatye"
      ],
      "metadata": {
        "id": "HbTFMWiR0cS6"
      }
    },
    {
      "cell_type": "code",
      "source": [
        "features = train_x.to_numpy()\n",
        "target = train_y['class'].to_numpy()\n",
        "features_test = test_x.to_numpy()"
      ],
      "metadata": {
        "id": "zqox7jm1UmVO"
      },
      "execution_count": 51,
      "outputs": []
    },
    {
      "cell_type": "code",
      "source": [
        "features_scaled = standardScaler(features) \n",
        "testfeat_scaled = standardScaler(features_test) "
      ],
      "metadata": {
        "id": "VGCKewQ2XHZr"
      },
      "execution_count": 52,
      "outputs": []
    },
    {
      "cell_type": "code",
      "source": [
        "X_train = np.array(features_scaled)\n",
        "y_train = np.array(target)\n",
        "X_test = np.array(testfeat_scaled)\n",
        "X_train.shape, y_train.shape, X_test.shape\n"
      ],
      "metadata": {
        "colab": {
          "base_uri": "https://localhost:8080/"
        },
        "id": "GUEBscppXvUp",
        "outputId": "6ed1d5a5-1a65-4cc5-9095-90adc2f0d1e7"
      },
      "execution_count": 53,
      "outputs": [
        {
          "output_type": "execute_result",
          "data": {
            "text/plain": [
              "((1023, 11), (1023,), (256, 11))"
            ]
          },
          "metadata": {},
          "execution_count": 53
        }
      ]
    },
    {
      "cell_type": "markdown",
      "source": [
        "## Train with decision tree"
      ],
      "metadata": {
        "id": "u-zEXyHn0oQa"
      }
    },
    {
      "cell_type": "code",
      "source": [
        "model = DecisionTree()\n",
        "model.fit(X_train, y_train)\n",
        "preds = model.predict(X_test)"
      ],
      "metadata": {
        "id": "i1sy07OyZmne"
      },
      "execution_count": 54,
      "outputs": []
    },
    {
      "cell_type": "code",
      "source": [
        "df = pd.DataFrame(np.array(preds))\n",
        "df.to_excel(\"Dataset1_pred.xlsx\")"
      ],
      "metadata": {
        "id": "BqXv1u--NVMf"
      },
      "execution_count": 55,
      "outputs": []
    }
  ]
}